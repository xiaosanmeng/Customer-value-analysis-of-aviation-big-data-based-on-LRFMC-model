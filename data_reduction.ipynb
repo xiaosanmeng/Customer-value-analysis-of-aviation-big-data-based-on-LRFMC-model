{
 "cells": [
  {
   "cell_type": "markdown",
   "id": "c7c6d153",
   "metadata": {},
   "source": [
    "数据属性规约与变换\n",
    "\n",
    "**Python核心技术**\n",
    "\n",
    "① Pandas模块 数据切片 实现\n",
    "\n",
    "② Pandas模块 CSV数据文件读写操作\n",
    "\n",
    "**编程思路**\n",
    "\n",
    "STEP1：读取原始样本csv数据；\n",
    "\n",
    "STEP2：根据要求 获取 样本数据中的指定字段数据集"
   ]
  },
  {
   "cell_type": "code",
   "execution_count": 1,
   "id": "8951c8df",
   "metadata": {},
   "outputs": [
    {
     "name": "stdout",
     "output_type": "stream",
     "text": [
      "<bound method DataFrame.info of        Unnamed: 0  MEMBER_NO    FFP_DATE FIRST_FLIGHT_DATE GENDER  FFP_TIER  \\\n",
      "0               0      54993  2006/11/02        2008/12/24      男         6   \n",
      "1               1      28065  2007/02/19        2007/08/03      男         6   \n",
      "2               2      55106  2007/02/01        2007/08/30      男         6   \n",
      "3               3      21189  2008/08/22        2008/08/23      男         5   \n",
      "4               4      39546  2009/04/10        2009/04/15      男         6   \n",
      "...           ...        ...         ...               ...    ...       ...   \n",
      "62039       62974      11163  2005/05/08        2005/08/26      男         4   \n",
      "62040       62975      30765  2008/11/16        2013/11/30      男         4   \n",
      "62041       62976      10380  2010/07/08        2011/06/21      男         4   \n",
      "62042       62977      16372  2012/12/20        2012/12/20      男         4   \n",
      "62043       62978      22761  2011/04/14        2011/04/14      男         4   \n",
      "\n",
      "         WORK_CITY WORK_PROVINCE WORK_COUNTRY   AGE  ... ADD_Point_SUM  \\\n",
      "0                .            北京           CN  31.0  ...         39992   \n",
      "1              NaN            北京           CN  42.0  ...         12000   \n",
      "2                .            北京           CN  40.0  ...         15491   \n",
      "3      Los Angeles            CA           US  64.0  ...             0   \n",
      "4               贵阳            贵州           CN  48.0  ...         22704   \n",
      "...            ...           ...          ...   ...  ...           ...   \n",
      "62039          NaN           NaN           CN  34.0  ...           500   \n",
      "62040       TAIPEI           NaN           TW  38.0  ...             0   \n",
      "62041          贵阳市           贵州省           CN  33.0  ...             0   \n",
      "62042           桃园           NaN           TW  47.0  ...             0   \n",
      "62043           汕头           广东省           CN  48.0  ...             0   \n",
      "\n",
      "       Eli_Add_Point_Sum  L1Y_ELi_Add_Points  Points_Sum  L1Y_Points_Sum  \\\n",
      "0                 114452              111100      619760          370211   \n",
      "1                  53288               53288      415768          238410   \n",
      "2                  55202               51711      406361          233798   \n",
      "3                  34890               34890      372204          186100   \n",
      "4                  64969               64969      338813          210365   \n",
      "...                  ...                 ...         ...             ...   \n",
      "62039                500                 500         900             900   \n",
      "62040                  0                   0         400             400   \n",
      "62041                  0                   0         213               0   \n",
      "62042                  0                   0           0               0   \n",
      "62043                  0                   0           0               0   \n",
      "\n",
      "       Ration_L1Y_Flight_Count  Ration_P1Y_Flight_Count  Ration_P1Y_BPS  \\\n",
      "0                     0.509524                 0.490476        0.487221   \n",
      "1                     0.514286                 0.485714        0.489289   \n",
      "2                     0.518519                 0.481481        0.481467   \n",
      "3                     0.434783                 0.565217        0.551722   \n",
      "4                     0.532895                 0.467105        0.469054   \n",
      "...                        ...                      ...             ...   \n",
      "62039                 1.000000                 0.000000        0.000000   \n",
      "62040                 1.000000                 0.000000        0.000000   \n",
      "62041                 0.500000                 0.500000        0.995327   \n",
      "62042                 0.000000                 1.000000        0.000000   \n",
      "62043                 1.000000                 0.000000        0.000000   \n",
      "\n",
      "       Ration_L1Y_BPS Point_NotFlight  \n",
      "0            0.512777              50  \n",
      "1            0.510708              33  \n",
      "2            0.518530              26  \n",
      "3            0.448275              12  \n",
      "4            0.530943              39  \n",
      "...               ...             ...  \n",
      "62039        0.997506               1  \n",
      "62040        0.997506               0  \n",
      "62041        0.000000               1  \n",
      "62042        0.000000               0  \n",
      "62043        0.000000               0  \n",
      "\n",
      "[62044 rows x 45 columns]>\n"
     ]
    }
   ],
   "source": [
    "import pandas as pd\n",
    "import os\n",
    "csvFile='./out'+os.sep+'data_cleaned.csv'\n",
    "data = pd.read_csv(csvFile,encoding='utf-8')\n",
    "# 测试 输出数据的基本信息\n",
    "print(data.info)"
   ]
  },
  {
   "cell_type": "markdown",
   "id": "cd638417",
   "metadata": {},
   "source": [
    "首先，筛选出所需的核心属性字段数据集"
   ]
  },
  {
   "cell_type": "code",
   "execution_count": 2,
   "id": "ec5fa25b",
   "metadata": {},
   "outputs": [
    {
     "name": "stdout",
     "output_type": "stream",
     "text": [
      "\n",
      ">>>测试输出核心属性字段数据集：\n",
      "         FFP_DATE   LOAD_TIME  FLIGHT_COUNT  avg_discount  SEG_KM_SUM  \\\n",
      "0      2006/11/02  2014/03/31           210      0.961639      580717   \n",
      "1      2007/02/19  2014/03/31           140      1.252314      293678   \n",
      "2      2007/02/01  2014/03/31           135      1.254676      283712   \n",
      "3      2008/08/22  2014/03/31            23      1.090870      281336   \n",
      "4      2009/04/10  2014/03/31           152      0.970658      309928   \n",
      "...           ...         ...           ...           ...         ...   \n",
      "62039  2005/05/08  2014/03/31             2      0.710000         368   \n",
      "62040  2008/11/16  2014/03/31             2      0.670000         368   \n",
      "62041  2010/07/08  2014/03/31             2      0.225000        1062   \n",
      "62042  2012/12/20  2014/03/31             2      0.250000         904   \n",
      "62043  2011/04/14  2014/03/31             2      0.280000         760   \n",
      "\n",
      "       LAST_TO_END  \n",
      "0                1  \n",
      "1                7  \n",
      "2               11  \n",
      "3               97  \n",
      "4                5  \n",
      "...            ...  \n",
      "62039           89  \n",
      "62040          121  \n",
      "62041           39  \n",
      "62042          464  \n",
      "62043          282  \n",
      "\n",
      "[62044 rows x 6 columns]\n"
     ]
    }
   ],
   "source": [
    "data = data[['FFP_DATE','LOAD_TIME','FLIGHT_COUNT','avg_discount','SEG_KM_SUM','LAST_TO_END']]\n",
    "# 测试输出\n",
    "print('\\n>>>测试输出核心属性字段数据集：')\n",
    "print(data)"
   ]
  },
  {
   "cell_type": "markdown",
   "id": "0928d510",
   "metadata": {},
   "source": [
    "按照性质要求生成新的属性"
   ]
  },
  {
   "cell_type": "code",
   "execution_count": 3,
   "id": "66a4e4b3",
   "metadata": {},
   "outputs": [
    {
     "name": "stdout",
     "output_type": "stream",
     "text": [
      "                 L         R    F       M         C\n",
      "0 90 days 04:48:00  0.033333  210  580717  0.961639\n",
      "1 86 days 13:36:00  0.233333  140  293678  1.252314\n",
      "2 87 days 04:00:00  0.366667  135  283712  1.254676\n",
      "3 68 days 05:36:00  3.233333   23  281336  1.090870\n",
      "4 60 days 12:48:00  0.166667  152  309928  0.970658\n"
     ]
    }
   ],
   "source": [
    "data['L'] = (pd.to_datetime(data['LOAD_TIME']) - pd.to_datetime(data['FFP_DATE']))/30 #将时间转换成月数\n",
    "data['R'] = data['LAST_TO_END']/30\n",
    "data['F'] = data['FLIGHT_COUNT']\n",
    "data['M'] = data['SEG_KM_SUM']\n",
    "data['C'] = data['avg_discount']\n",
    "# 筛选出所需的维度指标\n",
    "data = data[['L','R','F','M','C']]\n",
    "# 测试\n",
    "print(data.head())"
   ]
  },
  {
   "cell_type": "markdown",
   "id": "f21debc1",
   "metadata": {},
   "source": [
    "存一个新的文件，完成数据规约的操作"
   ]
  },
  {
   "cell_type": "code",
   "execution_count": 4,
   "id": "fb9be2da",
   "metadata": {},
   "outputs": [
    {
     "name": "stdout",
     "output_type": "stream",
     "text": [
      "\n",
      " 数据文件存入成功\n"
     ]
    }
   ],
   "source": [
    "csvFile = os.getcwd() + os.sep + 'out' + os.sep + 'data_reduction.csv'\n",
    "data.to_csv(csvFile,encoding='utf_8_sig')\n",
    "print('\\n 数据文件存入成功')"
   ]
  },
  {
   "cell_type": "markdown",
   "id": "a01e239a",
   "metadata": {},
   "source": [
    "接下来，进行数据标准化，为了后边更好的聚类\n",
    "\n",
    "采用的方法是：z-score标准化,选择合适的标准化方法\n"
   ]
  },
  {
   "cell_type": "code",
   "execution_count": 5,
   "id": "2e115703",
   "metadata": {},
   "outputs": [
    {
     "name": "stdout",
     "output_type": "stream",
     "text": [
      "         ZL        ZR         ZF         ZM        ZC\n",
      "0  1.435707 -0.944948  14.034016  26.761154   1.29554\n",
      "1  1.307152 -0.911894   9.073213  13.126864  2.868176\n",
      "2  1.328381 -0.889859   8.718869  12.653481   2.88095\n",
      "3  0.658476 -0.416098   0.781585  12.540622  1.994714\n",
      "4  0.386032 -0.922912   9.923636  13.898736  1.344335\n"
     ]
    }
   ],
   "source": [
    "# axis 表示按列(0)或者按行(1)进行计算\n",
    "data = (data - data.mean(axis=0)) / data.std(axis=0)\n",
    "# 采用列表推导式，进行统一推导\n",
    "data.columns = ['Z' + i for i in data.columns]\n",
    "print(data.head())"
   ]
  },
  {
   "cell_type": "code",
   "execution_count": 6,
   "id": "d3dd3966",
   "metadata": {},
   "outputs": [
    {
     "name": "stdout",
     "output_type": "stream",
     "text": [
      "\n",
      " 数据文件存入成功\n"
     ]
    }
   ],
   "source": [
    "csvFile = os.getcwd() + os.sep + 'out' + os.sep + 'data_zscore.csv'\n",
    "data.to_csv(csvFile,encoding='utf_8_sig')\n",
    "print('\\n 数据文件存入成功')"
   ]
  }
 ],
 "metadata": {
  "kernelspec": {
   "display_name": "Python 3 (ipykernel)",
   "language": "python",
   "name": "python3"
  },
  "language_info": {
   "codemirror_mode": {
    "name": "ipython",
    "version": 3
   },
   "file_extension": ".py",
   "mimetype": "text/x-python",
   "name": "python",
   "nbconvert_exporter": "python",
   "pygments_lexer": "ipython3",
   "version": "3.10.9"
  }
 },
 "nbformat": 4,
 "nbformat_minor": 5
}
