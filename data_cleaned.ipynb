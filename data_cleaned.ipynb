{
 "cells": [
  {
   "cell_type": "markdown",
   "id": "51707a61",
   "metadata": {},
   "source": [
    "实现数据的清洗（以删除为主）\n",
    "\n",
    "**Python核心技术**\n",
    "\n",
    "① Pandas模块 数据筛选 实现\n",
    "\n",
    "② Pandas模块 CSV数据文件读写操作\n",
    "\n",
    "**编程思路**\n",
    "\n",
    "STEP1：读取原始样本csv数据；\n",
    "\n",
    "STEP2：根据标准要求设置数据筛选条件，并实现数据清洗操作\n",
    "\n",
    "STEP3：将最终结果写入到 data_cleaned.csv 数据文件\n"
   ]
  },
  {
   "cell_type": "code",
   "execution_count": 6,
   "id": "fec7ea4f",
   "metadata": {},
   "outputs": [
    {
     "name": "stdout",
     "output_type": "stream",
     "text": [
      "<bound method DataFrame.info of        MEMBER_NO    FFP_DATE FIRST_FLIGHT_DATE GENDER  FFP_TIER    WORK_CITY  \\\n",
      "0          54993  2006/11/02        2008/12/24      男         6            .   \n",
      "1          28065  2007/02/19        2007/08/03      男         6          NaN   \n",
      "2          55106  2007/02/01        2007/08/30      男         6            .   \n",
      "3          21189  2008/08/22        2008/08/23      男         5  Los Angeles   \n",
      "4          39546  2009/04/10        2009/04/15      男         6           贵阳   \n",
      "...          ...         ...               ...    ...       ...          ...   \n",
      "62983      18375  2011/05/20        2013/06/05      女         4           广州   \n",
      "62984      36041  2010/03/08        2013/09/14      男         4           佛山   \n",
      "62985      45690  2006/03/30        2006/12/02      女         4           广州   \n",
      "62986      61027  2013/02/06        2013/02/14      女         4           广州   \n",
      "62987      61340  2013/02/17        2013/02/17      女         4           上海   \n",
      "\n",
      "      WORK_PROVINCE WORK_COUNTRY   AGE   LOAD_TIME  ...  ADD_Point_SUM  \\\n",
      "0                北京           CN  31.0  2014/03/31  ...          39992   \n",
      "1                北京           CN  42.0  2014/03/31  ...          12000   \n",
      "2                北京           CN  40.0  2014/03/31  ...          15491   \n",
      "3                CA           US  64.0  2014/03/31  ...              0   \n",
      "4                贵州           CN  48.0  2014/03/31  ...          22704   \n",
      "...             ...          ...   ...         ...  ...            ...   \n",
      "62983            广东           CN  25.0  2014/03/31  ...          12318   \n",
      "62984            广东           CN  38.0  2014/03/31  ...         106972   \n",
      "62985            广东           CN  43.0  2014/03/31  ...              0   \n",
      "62986            广东           CN  36.0  2014/03/31  ...              0   \n",
      "62987             .           CN  29.0  2014/03/31  ...              0   \n",
      "\n",
      "       Eli_Add_Point_Sum  L1Y_ELi_Add_Points  Points_Sum  L1Y_Points_Sum  \\\n",
      "0                 114452              111100      619760          370211   \n",
      "1                  53288               53288      415768          238410   \n",
      "2                  55202               51711      406361          233798   \n",
      "3                  34890               34890      372204          186100   \n",
      "4                  64969               64969      338813          210365   \n",
      "...                  ...                 ...         ...             ...   \n",
      "62983              12318               12123       12318           12123   \n",
      "62984             106972               56506      106972           56506   \n",
      "62985                  0                   0           0               0   \n",
      "62986                  0                   0           0               0   \n",
      "62987                  0                   0           0               0   \n",
      "\n",
      "       Ration_L1Y_Flight_Count  Ration_P1Y_Flight_Count  Ration_P1Y_BPS  \\\n",
      "0                     0.509524                 0.490476        0.487221   \n",
      "1                     0.514286                 0.485714        0.489289   \n",
      "2                     0.518519                 0.481481        0.481467   \n",
      "3                     0.434783                 0.565217        0.551722   \n",
      "4                     0.532895                 0.467105        0.469054   \n",
      "...                        ...                      ...             ...   \n",
      "62983                 1.000000                 0.000000        0.000000   \n",
      "62984                 1.000000                 0.000000        0.000000   \n",
      "62985                 1.000000                 0.000000        0.000000   \n",
      "62986                 0.000000                 1.000000        0.000000   \n",
      "62987                 0.000000                 1.000000        0.000000   \n",
      "\n",
      "      Ration_L1Y_BPS  Point_NotFlight  \n",
      "0           0.512777               50  \n",
      "1           0.510708               33  \n",
      "2           0.518530               26  \n",
      "3           0.448275               12  \n",
      "4           0.530943               39  \n",
      "...              ...              ...  \n",
      "62983       0.000000               22  \n",
      "62984       0.000000               43  \n",
      "62985       0.000000                0  \n",
      "62986       0.000000                0  \n",
      "62987       0.000000                0  \n",
      "\n",
      "[62988 rows x 44 columns]>\n"
     ]
    }
   ],
   "source": [
    "import pandas as pd\n",
    "import os\n",
    "csvFile='./data'+os.sep+'air_data.csv'\n",
    "data = pd.read_csv(csvFile,encoding='utf-8')\n",
    "# 测试 输出数据的基本信息\n",
    "print(data.info)"
   ]
  },
  {
   "cell_type": "markdown",
   "id": "8f12ac64",
   "metadata": {},
   "source": [
    " 筛选SUM_YR_1和SUM_YR_2字段不为空的数据行（保留）"
   ]
  },
  {
   "cell_type": "code",
   "execution_count": 9,
   "id": "5998452d",
   "metadata": {},
   "outputs": [
    {
     "name": "stdout",
     "output_type": "stream",
     "text": [
      "\n",
      ">>>根据以及条件进行筛选后的数据为：\n",
      "<class 'pandas.core.frame.DataFrame'>\n",
      "Int64Index: 62299 entries, 0 to 62986\n",
      "Data columns (total 44 columns):\n",
      " #   Column                   Non-Null Count  Dtype  \n",
      "---  ------                   --------------  -----  \n",
      " 0   MEMBER_NO                62299 non-null  int64  \n",
      " 1   FFP_DATE                 62299 non-null  object \n",
      " 2   FIRST_FLIGHT_DATE        62299 non-null  object \n",
      " 3   GENDER                   62296 non-null  object \n",
      " 4   FFP_TIER                 62299 non-null  int64  \n",
      " 5   WORK_CITY                60043 non-null  object \n",
      " 6   WORK_PROVINCE            59075 non-null  object \n",
      " 7   WORK_COUNTRY             62273 non-null  object \n",
      " 8   AGE                      61884 non-null  float64\n",
      " 9   LOAD_TIME                62299 non-null  object \n",
      " 10  FLIGHT_COUNT             62299 non-null  int64  \n",
      " 11  BP_SUM                   62299 non-null  int64  \n",
      " 12  EP_SUM_YR_1              62299 non-null  int64  \n",
      " 13  EP_SUM_YR_2              62299 non-null  int64  \n",
      " 14  SUM_YR_1                 62299 non-null  float64\n",
      " 15  SUM_YR_2                 62299 non-null  float64\n",
      " 16  SEG_KM_SUM               62299 non-null  int64  \n",
      " 17  WEIGHTED_SEG_KM          62299 non-null  float64\n",
      " 18  LAST_FLIGHT_DATE         62299 non-null  object \n",
      " 19  AVG_FLIGHT_COUNT         62299 non-null  float64\n",
      " 20  AVG_BP_SUM               62299 non-null  float64\n",
      " 21  BEGIN_TO_FIRST           62299 non-null  int64  \n",
      " 22  LAST_TO_END              62299 non-null  int64  \n",
      " 23  AVG_INTERVAL             62299 non-null  float64\n",
      " 24  MAX_INTERVAL             62299 non-null  int64  \n",
      " 25  ADD_POINTS_SUM_YR_1      62299 non-null  int64  \n",
      " 26  ADD_POINTS_SUM_YR_2      62299 non-null  int64  \n",
      " 27  EXCHANGE_COUNT           62299 non-null  int64  \n",
      " 28  avg_discount             62299 non-null  float64\n",
      " 29  P1Y_Flight_Count         62299 non-null  int64  \n",
      " 30  L1Y_Flight_Count         62299 non-null  int64  \n",
      " 31  P1Y_BP_SUM               62299 non-null  int64  \n",
      " 32  L1Y_BP_SUM               62299 non-null  int64  \n",
      " 33  EP_SUM                   62299 non-null  int64  \n",
      " 34  ADD_Point_SUM            62299 non-null  int64  \n",
      " 35  Eli_Add_Point_Sum        62299 non-null  int64  \n",
      " 36  L1Y_ELi_Add_Points       62299 non-null  int64  \n",
      " 37  Points_Sum               62299 non-null  int64  \n",
      " 38  L1Y_Points_Sum           62299 non-null  int64  \n",
      " 39  Ration_L1Y_Flight_Count  62299 non-null  float64\n",
      " 40  Ration_P1Y_Flight_Count  62299 non-null  float64\n",
      " 41  Ration_P1Y_BPS           62299 non-null  float64\n",
      " 42  Ration_L1Y_BPS           62299 non-null  float64\n",
      " 43  Point_NotFlight          62299 non-null  int64  \n",
      "dtypes: float64(12), int64(24), object(8)\n",
      "memory usage: 21.4+ MB\n",
      "None\n"
     ]
    }
   ],
   "source": [
    "data = data[data['SUM_YR_1'].notnull() & data['SUM_YR_2'].notnull()]\n",
    "# 测试\n",
    "print('\\n>>>根据以及条件进行筛选后的数据为：')\n",
    "print(data.info())"
   ]
  },
  {
   "cell_type": "markdown",
   "id": "a136612a",
   "metadata": {},
   "source": [
    "继续设置筛选条件进行筛选，以保留代替筛选"
   ]
  },
  {
   "cell_type": "code",
   "execution_count": 15,
   "id": "512cbe43",
   "metadata": {},
   "outputs": [
    {
     "name": "stdout",
     "output_type": "stream",
     "text": [
      "\n",
      ">>>根据耳机条件进行筛选后的数据为：\n",
      "<class 'pandas.core.frame.DataFrame'>\n",
      "Int64Index: 62044 entries, 0 to 62978\n",
      "Data columns (total 44 columns):\n",
      " #   Column                   Non-Null Count  Dtype  \n",
      "---  ------                   --------------  -----  \n",
      " 0   MEMBER_NO                62044 non-null  int64  \n",
      " 1   FFP_DATE                 62044 non-null  object \n",
      " 2   FIRST_FLIGHT_DATE        62044 non-null  object \n",
      " 3   GENDER                   62041 non-null  object \n",
      " 4   FFP_TIER                 62044 non-null  int64  \n",
      " 5   WORK_CITY                59791 non-null  object \n",
      " 6   WORK_PROVINCE            58831 non-null  object \n",
      " 7   WORK_COUNTRY             62018 non-null  object \n",
      " 8   AGE                      61632 non-null  float64\n",
      " 9   LOAD_TIME                62044 non-null  object \n",
      " 10  FLIGHT_COUNT             62044 non-null  int64  \n",
      " 11  BP_SUM                   62044 non-null  int64  \n",
      " 12  EP_SUM_YR_1              62044 non-null  int64  \n",
      " 13  EP_SUM_YR_2              62044 non-null  int64  \n",
      " 14  SUM_YR_1                 62044 non-null  float64\n",
      " 15  SUM_YR_2                 62044 non-null  float64\n",
      " 16  SEG_KM_SUM               62044 non-null  int64  \n",
      " 17  WEIGHTED_SEG_KM          62044 non-null  float64\n",
      " 18  LAST_FLIGHT_DATE         62044 non-null  object \n",
      " 19  AVG_FLIGHT_COUNT         62044 non-null  float64\n",
      " 20  AVG_BP_SUM               62044 non-null  float64\n",
      " 21  BEGIN_TO_FIRST           62044 non-null  int64  \n",
      " 22  LAST_TO_END              62044 non-null  int64  \n",
      " 23  AVG_INTERVAL             62044 non-null  float64\n",
      " 24  MAX_INTERVAL             62044 non-null  int64  \n",
      " 25  ADD_POINTS_SUM_YR_1      62044 non-null  int64  \n",
      " 26  ADD_POINTS_SUM_YR_2      62044 non-null  int64  \n",
      " 27  EXCHANGE_COUNT           62044 non-null  int64  \n",
      " 28  avg_discount             62044 non-null  float64\n",
      " 29  P1Y_Flight_Count         62044 non-null  int64  \n",
      " 30  L1Y_Flight_Count         62044 non-null  int64  \n",
      " 31  P1Y_BP_SUM               62044 non-null  int64  \n",
      " 32  L1Y_BP_SUM               62044 non-null  int64  \n",
      " 33  EP_SUM                   62044 non-null  int64  \n",
      " 34  ADD_Point_SUM            62044 non-null  int64  \n",
      " 35  Eli_Add_Point_Sum        62044 non-null  int64  \n",
      " 36  L1Y_ELi_Add_Points       62044 non-null  int64  \n",
      " 37  Points_Sum               62044 non-null  int64  \n",
      " 38  L1Y_Points_Sum           62044 non-null  int64  \n",
      " 39  Ration_L1Y_Flight_Count  62044 non-null  float64\n",
      " 40  Ration_P1Y_Flight_Count  62044 non-null  float64\n",
      " 41  Ration_P1Y_BPS           62044 non-null  float64\n",
      " 42  Ration_L1Y_BPS           62044 non-null  float64\n",
      " 43  Point_NotFlight          62044 non-null  int64  \n",
      "dtypes: float64(12), int64(24), object(8)\n",
      "memory usage: 21.3+ MB\n",
      "None\n"
     ]
    }
   ],
   "source": [
    "condition1 = data['SUM_YR_1'] != 0\n",
    "condition2 = data['SUM_YR_2'] != 0\n",
    "# 保留设置总里程不为0和平均折扣率为0的筛选条件\n",
    "condition3 = (data['SEG_KM_SUM'] != 0) & (data['avg_discount'] == 0)\n",
    "data = data[condition1 | condition2 | condition3]\n",
    "# 测试\n",
    "print('\\n>>>根据耳机条件进行筛选后的数据为：')\n",
    "print(data.info())"
   ]
  },
  {
   "cell_type": "markdown",
   "id": "8b4b6e65",
   "metadata": {},
   "source": [
    "存一个新的csv文件，便于追溯过程"
   ]
  },
  {
   "cell_type": "code",
   "execution_count": 16,
   "id": "627473af",
   "metadata": {},
   "outputs": [
    {
     "name": "stdout",
     "output_type": "stream",
     "text": [
      "\n",
      " 数据文件存入成功\n"
     ]
    }
   ],
   "source": [
    "csvFile = os.getcwd() + os.sep + 'out' + os.sep + 'data_cleaned.csv'\n",
    "data.to_csv(csvFile,encoding='utf_8_sig')\n",
    "print('\\n 数据文件存入成功')"
   ]
  }
 ],
 "metadata": {
  "kernelspec": {
   "display_name": "Python 3 (ipykernel)",
   "language": "python",
   "name": "python3"
  },
  "language_info": {
   "codemirror_mode": {
    "name": "ipython",
    "version": 3
   },
   "file_extension": ".py",
   "mimetype": "text/x-python",
   "name": "python",
   "nbconvert_exporter": "python",
   "pygments_lexer": "ipython3",
   "version": "3.10.9"
  }
 },
 "nbformat": 4,
 "nbformat_minor": 5
}
