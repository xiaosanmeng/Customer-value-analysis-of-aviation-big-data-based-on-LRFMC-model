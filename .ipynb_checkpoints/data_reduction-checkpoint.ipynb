{
 "cells": [
  {
   "cell_type": "markdown",
   "id": "c7c6d153",
   "metadata": {},
   "source": [
    "数据属性规约与变换\n",
    "\n",
    "**Python核心技术**\n",
    "\n",
    "① Pandas模块 数据切片 实现\n",
    "\n",
    "② Pandas模块 CSV数据文件读写操作\n",
    "\n",
    "**编程思路**\n",
    "\n",
    "STEP1：读取原始样本csv数据；\n",
    "\n",
    "STEP2：根据要求 获取 样本数据中的指定字段数据集"
   ]
  },
  {
   "cell_type": "code",
   "execution_count": 6,
   "id": "8951c8df",
   "metadata": {},
   "outputs": [
    {
     "name": "stdout",
     "output_type": "stream",
     "text": [
      "<class 'pandas.core.frame.DataFrame'>\n",
      "RangeIndex: 62044 entries, 0 to 62043\n",
      "Data columns (total 45 columns):\n",
      " #   Column                   Non-Null Count  Dtype  \n",
      "---  ------                   --------------  -----  \n",
      " 0   Unnamed: 0               62044 non-null  int64  \n",
      " 1   MEMBER_NO                62044 non-null  int64  \n",
      " 2   FFP_DATE                 62044 non-null  object \n",
      " 3   FIRST_FLIGHT_DATE        62044 non-null  object \n",
      " 4   GENDER                   62041 non-null  object \n",
      " 5   FFP_TIER                 62044 non-null  int64  \n",
      " 6   WORK_CITY                59791 non-null  object \n",
      " 7   WORK_PROVINCE            58831 non-null  object \n",
      " 8   WORK_COUNTRY             62018 non-null  object \n",
      " 9   AGE                      61632 non-null  float64\n",
      " 10  LOAD_TIME                62044 non-null  object \n",
      " 11  FLIGHT_COUNT             62044 non-null  int64  \n",
      " 12  BP_SUM                   62044 non-null  int64  \n",
      " 13  EP_SUM_YR_1              62044 non-null  int64  \n",
      " 14  EP_SUM_YR_2              62044 non-null  int64  \n",
      " 15  SUM_YR_1                 62044 non-null  float64\n",
      " 16  SUM_YR_2                 62044 non-null  float64\n",
      " 17  SEG_KM_SUM               62044 non-null  int64  \n",
      " 18  WEIGHTED_SEG_KM          62044 non-null  float64\n",
      " 19  LAST_FLIGHT_DATE         62044 non-null  object \n",
      " 20  AVG_FLIGHT_COUNT         62044 non-null  float64\n",
      " 21  AVG_BP_SUM               62044 non-null  float64\n",
      " 22  BEGIN_TO_FIRST           62044 non-null  int64  \n",
      " 23  LAST_TO_END              62044 non-null  int64  \n",
      " 24  AVG_INTERVAL             62044 non-null  float64\n",
      " 25  MAX_INTERVAL             62044 non-null  int64  \n",
      " 26  ADD_POINTS_SUM_YR_1      62044 non-null  int64  \n",
      " 27  ADD_POINTS_SUM_YR_2      62044 non-null  int64  \n",
      " 28  EXCHANGE_COUNT           62044 non-null  int64  \n",
      " 29  avg_discount             62044 non-null  float64\n",
      " 30  P1Y_Flight_Count         62044 non-null  int64  \n",
      " 31  L1Y_Flight_Count         62044 non-null  int64  \n",
      " 32  P1Y_BP_SUM               62044 non-null  int64  \n",
      " 33  L1Y_BP_SUM               62044 non-null  int64  \n",
      " 34  EP_SUM                   62044 non-null  int64  \n",
      " 35  ADD_Point_SUM            62044 non-null  int64  \n",
      " 36  Eli_Add_Point_Sum        62044 non-null  int64  \n",
      " 37  L1Y_ELi_Add_Points       62044 non-null  int64  \n",
      " 38  Points_Sum               62044 non-null  int64  \n",
      " 39  L1Y_Points_Sum           62044 non-null  int64  \n",
      " 40  Ration_L1Y_Flight_Count  62044 non-null  float64\n",
      " 41  Ration_P1Y_Flight_Count  62044 non-null  float64\n",
      " 42  Ration_P1Y_BPS           62044 non-null  float64\n",
      " 43  Ration_L1Y_BPS           62044 non-null  float64\n",
      " 44  Point_NotFlight          62044 non-null  int64  \n",
      "dtypes: float64(12), int64(25), object(8)\n",
      "memory usage: 21.3+ MB\n",
      "None\n"
     ]
    }
   ],
   "source": [
    "import pandas as pd\n",
    "import os\n",
    "csvFile='./out'+os.sep+'data_cleaned.csv'\n",
    "data = pd.read_csv(csvFile,encoding='utf-8')\n",
    "# 测试 输出数据的基本信息\n",
    "print(data.info())"
   ]
  },
  {
   "cell_type": "markdown",
   "id": "cd638417",
   "metadata": {},
   "source": [
    "首先，筛选出所需的核心属性字段数据集"
   ]
  },
  {
   "cell_type": "code",
   "execution_count": 7,
   "id": "ec5fa25b",
   "metadata": {},
   "outputs": [
    {
     "name": "stdout",
     "output_type": "stream",
     "text": [
      "\n",
      ">>>测试输出核心属性字段数据集：\n",
      "         FFP_DATE   LOAD_TIME  FLIGHT_COUNT  avg_discount  SEG_KM_SUM  \\\n",
      "0      2006/11/02  2014/03/31           210      0.961639      580717   \n",
      "1      2007/02/19  2014/03/31           140      1.252314      293678   \n",
      "2      2007/02/01  2014/03/31           135      1.254676      283712   \n",
      "3      2008/08/22  2014/03/31            23      1.090870      281336   \n",
      "4      2009/04/10  2014/03/31           152      0.970658      309928   \n",
      "...           ...         ...           ...           ...         ...   \n",
      "62039  2005/05/08  2014/03/31             2      0.710000         368   \n",
      "62040  2008/11/16  2014/03/31             2      0.670000         368   \n",
      "62041  2010/07/08  2014/03/31             2      0.225000        1062   \n",
      "62042  2012/12/20  2014/03/31             2      0.250000         904   \n",
      "62043  2011/04/14  2014/03/31             2      0.280000         760   \n",
      "\n",
      "       LAST_TO_END  \n",
      "0                1  \n",
      "1                7  \n",
      "2               11  \n",
      "3               97  \n",
      "4                5  \n",
      "...            ...  \n",
      "62039           89  \n",
      "62040          121  \n",
      "62041           39  \n",
      "62042          464  \n",
      "62043          282  \n",
      "\n",
      "[62044 rows x 6 columns]\n"
     ]
    }
   ],
   "source": [
    "data = data[['FFP_DATE','LOAD_TIME','FLIGHT_COUNT','avg_discount','SEG_KM_SUM','LAST_TO_END']]\n",
    "# 测试输出\n",
    "print('\\n>>>测试输出核心属性字段数据集：')\n",
    "print(data)"
   ]
  },
  {
   "cell_type": "markdown",
   "id": "0928d510",
   "metadata": {},
   "source": [
    "按照性质要求生成新的属性"
   ]
  },
  {
   "cell_type": "code",
   "execution_count": 8,
   "id": "66a4e4b3",
   "metadata": {},
   "outputs": [
    {
     "name": "stdout",
     "output_type": "stream",
     "text": [
      "    L         R    F       M         C\n",
      "0  90  0.033333  210  580717  0.961639\n",
      "1  86  0.233333  140  293678  1.252314\n",
      "2  87  0.366667  135  283712  1.254676\n",
      "3  68  3.233333   23  281336  1.090870\n",
      "4  60  0.166667  152  309928  0.970658\n"
     ]
    }
   ],
   "source": [
    "data['L'] = ((pd.to_datetime(data['LOAD_TIME']) - pd.to_datetime(data['FFP_DATE']))/30).map(lambda x:x.days) #将时间转换成月数\n",
    "data['R'] = data['LAST_TO_END']/30\n",
    "data['F'] = data['FLIGHT_COUNT']\n",
    "data['M'] = data['SEG_KM_SUM']\n",
    "data['C'] = data['avg_discount']\n",
    "# 筛选出所需的维度指标\n",
    "data = data[['L','R','F','M','C']]\n",
    "# 测试\n",
    "print(data.head())"
   ]
  },
  {
   "cell_type": "markdown",
   "id": "f21debc1",
   "metadata": {},
   "source": [
    "存一个新的文件，完成数据规约的操作"
   ]
  },
  {
   "cell_type": "code",
   "execution_count": 10,
   "id": "fb9be2da",
   "metadata": {},
   "outputs": [
    {
     "name": "stdout",
     "output_type": "stream",
     "text": [
      "\n",
      " 数据文件存入成功\n"
     ]
    }
   ],
   "source": [
    "csvFile = os.getcwd() + os.sep + 'out' + os.sep + 'data_reduction.csv'\n",
    "data.to_csv(csvFile,encoding='utf_8_sig', index=False)\n",
    "print('\\n 数据文件存入成功')"
   ]
  }
 ],
 "metadata": {
  "kernelspec": {
   "display_name": "Python 3 (ipykernel)",
   "language": "python",
   "name": "python3"
  },
  "language_info": {
   "codemirror_mode": {
    "name": "ipython",
    "version": 3
   },
   "file_extension": ".py",
   "mimetype": "text/x-python",
   "name": "python",
   "nbconvert_exporter": "python",
   "pygments_lexer": "ipython3",
   "version": "3.10.9"
  }
 },
 "nbformat": 4,
 "nbformat_minor": 5
}
