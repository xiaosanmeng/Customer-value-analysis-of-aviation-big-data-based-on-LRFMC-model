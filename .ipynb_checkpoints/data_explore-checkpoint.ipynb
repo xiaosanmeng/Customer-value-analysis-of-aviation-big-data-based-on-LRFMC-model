{
 "cells": [
  {
   "cell_type": "markdown",
   "id": "5647cb09",
   "metadata": {},
   "source": [
    "实现数据的探索\n",
    "\n",
    "关于本部分的相关介绍：  \n",
    "\n",
    "**Python核心技术**  \n",
    "\n",
    "① Python CSV 文件的读写操作；\n",
    "\n",
    "② Pandas模块库中的数据描述及矩阵转置实现\n",
    "\n",
    "**编程思路**  \n",
    "\n",
    "STEP1：读取原始样本csv数据；\n",
    "\n",
    "STEP2：矩阵转置并获取各列数据的空值、最大值及最小值\n",
    "\n",
    "STEP3：将最终结果写入到 data_exceplore.csv 数据文件"
   ]
  },
  {
   "cell_type": "markdown",
   "id": "93b9b09f",
   "metadata": {},
   "source": [
    "首先导入模块库"
   ]
  },
  {
   "cell_type": "code",
   "execution_count": 1,
   "id": "72f2f690",
   "metadata": {},
   "outputs": [],
   "source": [
    "import pandas as pd\n",
    "import os"
   ]
  },
  {
   "cell_type": "markdown",
   "id": "46ac34f0",
   "metadata": {},
   "source": [
    "然后设置原始样本数据csv文件地址，os.sep会根据系统的不同返回合适的/"
   ]
  },
  {
   "cell_type": "code",
   "execution_count": 2,
   "id": "78ff45fc",
   "metadata": {},
   "outputs": [],
   "source": [
    "csvFile='./data'+os.sep+'air_data.csv'"
   ]
  },
  {
   "cell_type": "markdown",
   "id": "eeca63d5",
   "metadata": {},
   "source": [
    "使用pandas中read_csv获取文件,这种方法获取到的是DataFrame数据类型"
   ]
  },
  {
   "cell_type": "code",
   "execution_count": 4,
   "id": "13d32413",
   "metadata": {},
   "outputs": [],
   "source": [
    "data = pd.read_csv(csvFile,encoding='utf-8')"
   ]
  },
  {
   "cell_type": "markdown",
   "id": "401d9222",
   "metadata": {},
   "source": [
    "进行不同方式的测试"
   ]
  },
  {
   "cell_type": "code",
   "execution_count": 6,
   "id": "08ea6e2a",
   "metadata": {},
   "outputs": [
    {
     "name": "stdout",
     "output_type": "stream",
     "text": [
      "   MEMBER_NO    FFP_DATE FIRST_FLIGHT_DATE GENDER  FFP_TIER    WORK_CITY  \\\n",
      "0      54993  2006/11/02        2008/12/24      男         6            .   \n",
      "1      28065  2007/02/19        2007/08/03      男         6          NaN   \n",
      "2      55106  2007/02/01        2007/08/30      男         6            .   \n",
      "3      21189  2008/08/22        2008/08/23      男         5  Los Angeles   \n",
      "4      39546  2009/04/10        2009/04/15      男         6           贵阳   \n",
      "\n",
      "  WORK_PROVINCE WORK_COUNTRY   AGE   LOAD_TIME  ...  ADD_Point_SUM  \\\n",
      "0            北京           CN  31.0  2014/03/31  ...          39992   \n",
      "1            北京           CN  42.0  2014/03/31  ...          12000   \n",
      "2            北京           CN  40.0  2014/03/31  ...          15491   \n",
      "3            CA           US  64.0  2014/03/31  ...              0   \n",
      "4            贵州           CN  48.0  2014/03/31  ...          22704   \n",
      "\n",
      "   Eli_Add_Point_Sum  L1Y_ELi_Add_Points  Points_Sum  L1Y_Points_Sum  \\\n",
      "0             114452              111100      619760          370211   \n",
      "1              53288               53288      415768          238410   \n",
      "2              55202               51711      406361          233798   \n",
      "3              34890               34890      372204          186100   \n",
      "4              64969               64969      338813          210365   \n",
      "\n",
      "   Ration_L1Y_Flight_Count  Ration_P1Y_Flight_Count  Ration_P1Y_BPS  \\\n",
      "0                 0.509524                 0.490476        0.487221   \n",
      "1                 0.514286                 0.485714        0.489289   \n",
      "2                 0.518519                 0.481481        0.481467   \n",
      "3                 0.434783                 0.565217        0.551722   \n",
      "4                 0.532895                 0.467105        0.469054   \n",
      "\n",
      "  Ration_L1Y_BPS  Point_NotFlight  \n",
      "0       0.512777               50  \n",
      "1       0.510708               33  \n",
      "2       0.518530               26  \n",
      "3       0.448275               12  \n",
      "4       0.530943               39  \n",
      "\n",
      "[5 rows x 44 columns]\n"
     ]
    }
   ],
   "source": [
    "# print(data) #全部输出\n",
    "print(data.head()) #只输出前五条"
   ]
  },
  {
   "cell_type": "markdown",
   "id": "c15b438b",
   "metadata": {},
   "source": [
    "获取数据中的空值项，并进行转置处理"
   ]
  },
  {
   "cell_type": "code",
   "execution_count": 20,
   "id": "34ee85cf",
   "metadata": {},
   "outputs": [
    {
     "name": "stdout",
     "output_type": "stream",
     "text": [
      "\n",
      "数据描述统计结果： \n",
      "                           count unique         top   freq          mean  \\\n",
      "MEMBER_NO                62988.0    NaN         NaN    NaN       31494.5   \n",
      "FFP_DATE                   62988   3068  2011/01/13    184           NaN   \n",
      "FIRST_FLIGHT_DATE          62988   3406  2013/02/16     96           NaN   \n",
      "GENDER                     62985      2           男  48134           NaN   \n",
      "FFP_TIER                 62988.0    NaN         NaN    NaN      4.102162   \n",
      "WORK_CITY                  60719   3310          广州   9385           NaN   \n",
      "WORK_PROVINCE              59740   1185          广东  17507           NaN   \n",
      "WORK_COUNTRY               62962    118          CN  57748           NaN   \n",
      "AGE                      62568.0    NaN         NaN    NaN     42.476346   \n",
      "LOAD_TIME                  62988      1  2014/03/31  62988           NaN   \n",
      "FLIGHT_COUNT             62988.0    NaN         NaN    NaN     11.839414   \n",
      "BP_SUM                   62988.0    NaN         NaN    NaN  10925.081254   \n",
      "EP_SUM_YR_1              62988.0    NaN         NaN    NaN           0.0   \n",
      "EP_SUM_YR_2              62988.0    NaN         NaN    NaN    265.689623   \n",
      "SUM_YR_1                 62437.0    NaN         NaN    NaN   5355.376064   \n",
      "SUM_YR_2                 62850.0    NaN         NaN    NaN   5604.026014   \n",
      "SEG_KM_SUM               62988.0    NaN         NaN    NaN  17123.878691   \n",
      "WEIGHTED_SEG_KM          62988.0    NaN         NaN    NaN  12777.152439   \n",
      "LAST_FLIGHT_DATE           62988    731  2014/03/31    959           NaN   \n",
      "AVG_FLIGHT_COUNT         62988.0    NaN         NaN    NaN      1.542154   \n",
      "AVG_BP_SUM               62988.0    NaN         NaN    NaN   1421.440249   \n",
      "BEGIN_TO_FIRST           62988.0    NaN         NaN    NaN    120.145488   \n",
      "LAST_TO_END              62988.0    NaN         NaN    NaN    176.120102   \n",
      "AVG_INTERVAL             62988.0    NaN         NaN    NaN     67.749788   \n",
      "MAX_INTERVAL             62988.0    NaN         NaN    NaN    166.033895   \n",
      "ADD_POINTS_SUM_YR_1      62988.0    NaN         NaN    NaN    540.316965   \n",
      "ADD_POINTS_SUM_YR_2      62988.0    NaN         NaN    NaN    814.689258   \n",
      "EXCHANGE_COUNT           62988.0    NaN         NaN    NaN      0.319775   \n",
      "avg_discount             62988.0    NaN         NaN    NaN      0.721558   \n",
      "P1Y_Flight_Count         62988.0    NaN         NaN    NaN      5.766257   \n",
      "L1Y_Flight_Count         62988.0    NaN         NaN    NaN      6.073157   \n",
      "P1Y_BP_SUM               62988.0    NaN         NaN    NaN    5366.72055   \n",
      "L1Y_BP_SUM               62988.0    NaN         NaN    NaN   5558.360704   \n",
      "EP_SUM                   62988.0    NaN         NaN    NaN    265.689623   \n",
      "ADD_Point_SUM            62988.0    NaN         NaN    NaN   1355.006223   \n",
      "Eli_Add_Point_Sum        62988.0    NaN         NaN    NaN   1620.695847   \n",
      "L1Y_ELi_Add_Points       62988.0    NaN         NaN    NaN   1080.378882   \n",
      "Points_Sum               62988.0    NaN         NaN    NaN    12545.7771   \n",
      "L1Y_Points_Sum           62988.0    NaN         NaN    NaN   6638.739585   \n",
      "Ration_L1Y_Flight_Count  62988.0    NaN         NaN    NaN      0.486419   \n",
      "Ration_P1Y_Flight_Count  62988.0    NaN         NaN    NaN      0.513581   \n",
      "Ration_P1Y_BPS           62988.0    NaN         NaN    NaN      0.522293   \n",
      "Ration_L1Y_BPS           62988.0    NaN         NaN    NaN      0.468422   \n",
      "Point_NotFlight          62988.0    NaN         NaN    NaN      2.728155   \n",
      "\n",
      "                                  std    min        50%        max  \n",
      "MEMBER_NO                18183.213715    1.0    31494.5    62988.0  \n",
      "FFP_DATE                          NaN    NaN        NaN        NaN  \n",
      "FIRST_FLIGHT_DATE                 NaN    NaN        NaN        NaN  \n",
      "GENDER                            NaN    NaN        NaN        NaN  \n",
      "FFP_TIER                     0.373856    4.0        4.0        6.0  \n",
      "WORK_CITY                         NaN    NaN        NaN        NaN  \n",
      "WORK_PROVINCE                     NaN    NaN        NaN        NaN  \n",
      "WORK_COUNTRY                      NaN    NaN        NaN        NaN  \n",
      "AGE                          9.885915    6.0       41.0      110.0  \n",
      "LOAD_TIME                         NaN    NaN        NaN        NaN  \n",
      "FLIGHT_COUNT                14.049471    2.0        7.0      213.0  \n",
      "BP_SUM                   16339.486151    0.0     5700.0   505308.0  \n",
      "EP_SUM_YR_1                       0.0    0.0        0.0        0.0  \n",
      "EP_SUM_YR_2               1645.702854    0.0        0.0    74460.0  \n",
      "SUM_YR_1                  8109.450147    0.0     2800.0   239560.0  \n",
      "SUM_YR_2                  8703.364247    0.0     2773.0   234188.0  \n",
      "SEG_KM_SUM               20960.844623  368.0     9994.0   580717.0  \n",
      "WEIGHTED_SEG_KM          17578.586695    0.0   6978.255  558440.14  \n",
      "LAST_FLIGHT_DATE                  NaN    NaN        NaN        NaN  \n",
      "AVG_FLIGHT_COUNT             1.786996   0.25      0.875     26.625  \n",
      "AVG_BP_SUM                2083.121324    0.0    752.375    63163.5  \n",
      "BEGIN_TO_FIRST             159.572867    0.0       50.0      729.0  \n",
      "LAST_TO_END                183.822223    1.0      108.0      731.0  \n",
      "AVG_INTERVAL                77.517866    0.0  44.666667      728.0  \n",
      "MAX_INTERVAL                123.39718    0.0      143.0      728.0  \n",
      "ADD_POINTS_SUM_YR_1       3956.083455    0.0        0.0   600000.0  \n",
      "ADD_POINTS_SUM_YR_2       5121.796929    0.0        0.0   728282.0  \n",
      "EXCHANGE_COUNT               1.136004    0.0        0.0       46.0  \n",
      "avg_discount                 0.185427    0.0   0.711856        1.5  \n",
      "P1Y_Flight_Count             7.210922    0.0        3.0      118.0  \n",
      "L1Y_Flight_Count             8.175127    0.0        3.0      111.0  \n",
      "P1Y_BP_SUM                8537.773021    0.0     2692.0   246197.0  \n",
      "L1Y_BP_SUM                9351.956952    0.0     2547.0   259111.0  \n",
      "EP_SUM                    1645.702854    0.0        0.0    74460.0  \n",
      "ADD_Point_SUM                7868.477    0.0        0.0   984938.0  \n",
      "Eli_Add_Point_Sum         8294.398955    0.0        0.0   984938.0  \n",
      "L1Y_ELi_Add_Points        5639.857254    0.0        0.0   728282.0  \n",
      "Points_Sum                 20507.8167    0.0     6328.5   985572.0  \n",
      "L1Y_Points_Sum           12601.819863    0.0     2860.5   728282.0  \n",
      "Ration_L1Y_Flight_Count      0.319105    0.0        0.5        1.0  \n",
      "Ration_P1Y_Flight_Count      0.319105    0.0        0.5        1.0  \n",
      "Ration_P1Y_BPS               0.339632    0.0   0.514252   0.999989  \n",
      "Ration_L1Y_BPS               0.338956    0.0   0.476747   0.999993  \n",
      "Point_NotFlight              7.364164    0.0        0.0      140.0  \n"
     ]
    }
   ],
   "source": [
    "explore = data.describe(percentiles=[],include='all').T\n",
    "# 测试\n",
    "print('\\n数据描述统计结果： ')\n",
    "print(explore)"
   ]
  },
  {
   "cell_type": "markdown",
   "id": "b33e816c",
   "metadata": {},
   "source": [
    "计算每个属性的空值个数\n",
    "\n",
    "新增一列并赋值，采用矩阵运算"
   ]
  },
  {
   "cell_type": "code",
   "execution_count": 21,
   "id": "8fc70a85",
   "metadata": {},
   "outputs": [],
   "source": [
    "explore['null'] = len(data) - explore['count']"
   ]
  },
  {
   "cell_type": "markdown",
   "id": "a5cc9cd3",
   "metadata": {},
   "source": [
    "梳理最终数据探索的表格显示结构，并设置最终数据的标题字段名称"
   ]
  },
  {
   "cell_type": "code",
   "execution_count": 22,
   "id": "ae2938cf",
   "metadata": {
    "scrolled": true
   },
   "outputs": [
    {
     "name": "stdout",
     "output_type": "stream",
     "text": [
      "\n",
      "最终探索的数据结果为：\n",
      "                           空值数        最大值    最小值\n",
      "MEMBER_NO                  0.0    62988.0    1.0\n",
      "FFP_DATE                     0        NaN    NaN\n",
      "FIRST_FLIGHT_DATE            0        NaN    NaN\n",
      "GENDER                       3        NaN    NaN\n",
      "FFP_TIER                   0.0        6.0    4.0\n",
      "WORK_CITY                 2269        NaN    NaN\n",
      "WORK_PROVINCE             3248        NaN    NaN\n",
      "WORK_COUNTRY                26        NaN    NaN\n",
      "AGE                      420.0      110.0    6.0\n",
      "LOAD_TIME                    0        NaN    NaN\n",
      "FLIGHT_COUNT               0.0      213.0    2.0\n",
      "BP_SUM                     0.0   505308.0    0.0\n",
      "EP_SUM_YR_1                0.0        0.0    0.0\n",
      "EP_SUM_YR_2                0.0    74460.0    0.0\n",
      "SUM_YR_1                 551.0   239560.0    0.0\n",
      "SUM_YR_2                 138.0   234188.0    0.0\n",
      "SEG_KM_SUM                 0.0   580717.0  368.0\n",
      "WEIGHTED_SEG_KM            0.0  558440.14    0.0\n",
      "LAST_FLIGHT_DATE             0        NaN    NaN\n",
      "AVG_FLIGHT_COUNT           0.0     26.625   0.25\n",
      "AVG_BP_SUM                 0.0    63163.5    0.0\n",
      "BEGIN_TO_FIRST             0.0      729.0    0.0\n",
      "LAST_TO_END                0.0      731.0    1.0\n",
      "AVG_INTERVAL               0.0      728.0    0.0\n",
      "MAX_INTERVAL               0.0      728.0    0.0\n",
      "ADD_POINTS_SUM_YR_1        0.0   600000.0    0.0\n",
      "ADD_POINTS_SUM_YR_2        0.0   728282.0    0.0\n",
      "EXCHANGE_COUNT             0.0       46.0    0.0\n",
      "avg_discount               0.0        1.5    0.0\n",
      "P1Y_Flight_Count           0.0      118.0    0.0\n",
      "L1Y_Flight_Count           0.0      111.0    0.0\n",
      "P1Y_BP_SUM                 0.0   246197.0    0.0\n",
      "L1Y_BP_SUM                 0.0   259111.0    0.0\n",
      "EP_SUM                     0.0    74460.0    0.0\n",
      "ADD_Point_SUM              0.0   984938.0    0.0\n",
      "Eli_Add_Point_Sum          0.0   984938.0    0.0\n",
      "L1Y_ELi_Add_Points         0.0   728282.0    0.0\n",
      "Points_Sum                 0.0   985572.0    0.0\n",
      "L1Y_Points_Sum             0.0   728282.0    0.0\n",
      "Ration_L1Y_Flight_Count    0.0        1.0    0.0\n",
      "Ration_P1Y_Flight_Count    0.0        1.0    0.0\n",
      "Ration_P1Y_BPS             0.0   0.999989    0.0\n",
      "Ration_L1Y_BPS             0.0   0.999993    0.0\n",
      "Point_NotFlight            0.0      140.0    0.0\n"
     ]
    }
   ],
   "source": [
    "explore = explore[['null','max','min']]\n",
    "explore.columns = ['空值数','最大值','最小值']\n",
    "# 测试\n",
    "print('\\n最终探索的数据结果为：')\n",
    "print(explore)"
   ]
  },
  {
   "cell_type": "markdown",
   "id": "8004f8f8",
   "metadata": {},
   "source": [
    "将最终结果写入到指定的文件当中去\n",
    "\n",
    "首先检测文件是否存在\n",
    "\n",
    "然后将数据写入到指定文件中"
   ]
  },
  {
   "cell_type": "code",
   "execution_count": 27,
   "id": "a0730a76",
   "metadata": {},
   "outputs": [
    {
     "name": "stdout",
     "output_type": "stream",
     "text": [
      "\n",
      "数据写入成功\n"
     ]
    }
   ],
   "source": [
    "csvPath = os.getcwd() + os.sep + 'out' #返回根目录\n",
    "# 判断是否存在，若不则创建\n",
    "if not os.path.exists(csvPath):\n",
    "    print('\\n>>>程序检测到指定输出文件夹不存在，正在创建中......')\n",
    "    os.makedirs(csvPath)\n",
    "    print('\\n>>>输出文件夹创建成功.')\n",
    "\n",
    "# 指定地址并调用函数写入\n",
    "csvFile = csvPath + os.sep + 'data_explore.csv'\n",
    "# 写入\n",
    "explore.to_csv(csvFile,encoding='utf_8_sig')\n",
    "print('\\n数据写入成功')"
   ]
  },
  {
   "cell_type": "code",
   "execution_count": null,
   "id": "846c5588",
   "metadata": {},
   "outputs": [],
   "source": []
  }
 ],
 "metadata": {
  "kernelspec": {
   "display_name": "Python 3 (ipykernel)",
   "language": "python",
   "name": "python3"
  },
  "language_info": {
   "codemirror_mode": {
    "name": "ipython",
    "version": 3
   },
   "file_extension": ".py",
   "mimetype": "text/x-python",
   "name": "python",
   "nbconvert_exporter": "python",
   "pygments_lexer": "ipython3",
   "version": "3.10.9"
  }
 },
 "nbformat": 4,
 "nbformat_minor": 5
}
