{
 "cells": [
  {
   "cell_type": "markdown",
   "id": "5a399982",
   "metadata": {},
   "source": [
    "模型分析-kMeans 聚类算法(无标签，无监督\n",
    "\n",
    "**Python核心技术**\n",
    "\n",
    "① SKLearn模块创建KMeans模型对象实例\n",
    "\n",
    "② 使用Kmeans对象实例的 fit( ) 函数完成模型分析\n",
    "\n",
    "**编程思路**\n",
    "\n",
    "STEP1：读取原始样本csv数据；\n",
    "\n",
    "STEP2：创建Kmeans对象并进行数据训练及分析\n",
    "\n",
    "STEP3：将最终结果保存\n"
   ]
  },
  {
   "cell_type": "markdown",
   "id": "d9942e47",
   "metadata": {},
   "source": [
    "**导入相关的模块库**"
   ]
  },
  {
   "cell_type": "code",
   "execution_count": 22,
   "id": "679bb944",
   "metadata": {},
   "outputs": [
    {
     "name": "stdout",
     "output_type": "stream",
     "text": [
      "         ZL        ZR         ZF         ZM        ZC\n",
      "0  1.445661 -0.944948  14.034016  26.761154  1.295540\n",
      "1  1.304140 -0.911894   9.073213  13.126864  2.868176\n",
      "2  1.339521 -0.889859   8.718869  12.653481  2.880950\n",
      "3  0.667296 -0.416098   0.781585  12.540622  1.994714\n",
      "4  0.384254 -0.922912   9.923636  13.898736  1.344335\n"
     ]
    }
   ],
   "source": [
    "import pandas as pd\n",
    "import os\n",
    "from sklearn.cluster import KMeans\n",
    "\n",
    "import pandas as pd\n",
    "import os\n",
    "\n",
    "csvFile='./out'+os.sep+'data_zscore.csv'\n",
    "data = pd.read_csv(csvFile,encoding='utf_8_sig')\n",
    "# 测试 输出数据的基本信息\n",
    "print(data.head())"
   ]
  },
  {
   "cell_type": "markdown",
   "id": "971efca6",
   "metadata": {},
   "source": [
    "**聚类模型参数设置和训练**\n",
    "\n"
   ]
  },
  {
   "cell_type": "code",
   "execution_count": 8,
   "id": "eec52b93",
   "metadata": {},
   "outputs": [
    {
     "name": "stdout",
     "output_type": "stream",
     "text": [
      "\n",
      ">>>[Success]KMeans聚类分析模型创建成功.\n",
      "\n",
      ">>>已导入样本数据集，开始启动KMeans模型进行训练......\n",
      "\n",
      ">>>[Success]KMeans模型训练完毕.\n"
     ]
    }
   ],
   "source": [
    "# 设置聚类分析算法的分类个数\n",
    "k=5\n",
    "# 创建KMeans聚类模型对象实例\n",
    "# n_clusters：分类个数  n_jobs：算力CPU的计算能力标准 1-4  n_init参数表示了尝试不同初始中心点的次数。\n",
    "kmodel = KMeans(n_clusters=k,n_init='auto')\n",
    "print('\\n>>>[Success]KMeans聚类分析模型创建成功.')\n",
    "# 模型的训练 大多数模型都会采用fit来训练模型\n",
    "print('\\n>>>已导入样本数据集，开始启动KMeans模型进行训练......')\n",
    "kmodel.fit(data)\n",
    "print('\\n>>>[Success]KMeans模型训练完毕.')"
   ]
  },
  {
   "cell_type": "markdown",
   "id": "549b6e96",
   "metadata": {},
   "source": [
    "**数据分析结果显示**\n",
    "\n",
    "**表连接，并写入文件**\n",
    "\n",
    "连接数据形成最终统一的聚类分析统计表1 KMeans_clusters.csv"
   ]
  },
  {
   "cell_type": "code",
   "execution_count": 23,
   "id": "96d59a94",
   "metadata": {},
   "outputs": [
    {
     "name": "stdout",
     "output_type": "stream",
     "text": [
      "\n",
      ">>>查看客户样本对应的类别个数：\n",
      "0    24146\n",
      "2    15435\n",
      "3    12154\n",
      "1     8490\n",
      "4     1819\n",
      "dtype: int64\n",
      "\n",
      ">>>查看客户样本类别的聚类标准中心值：\n",
      "          0         1         2         3         4\n",
      "0 -0.717711 -0.359011 -0.281298 -0.275635 -0.186378\n",
      "1  0.257306 -0.715848  1.235137  1.175322  0.322861\n",
      "2  1.155907 -0.292034 -0.244782 -0.246845  0.034598\n",
      "3 -0.326571  1.713090 -0.572753 -0.535596  0.024809\n",
      "4  0.691962 -0.849333  3.838366  3.812567  0.500533\n",
      "\n",
      ">>>Kmeans聚类统计分析表1：\n",
      "    聚类个数        ZL        ZR        ZF        ZM        ZC\n",
      "0  24146 -0.717711 -0.359011 -0.281298 -0.275635 -0.186378\n",
      "2  15435  1.155907 -0.292034 -0.244782 -0.246845  0.034598\n",
      "3  12154 -0.326571  1.713090 -0.572753 -0.535596  0.024809\n",
      "1   8490  0.257306 -0.715848  1.235137  1.175322  0.322861\n",
      "4   1819  0.691962 -0.849333  3.838366  3.812567  0.500533\n",
      "\n",
      " 数据文件存入成功\n"
     ]
    }
   ],
   "source": [
    " # 查看客户样本对应的类别个数\n",
    "print('\\n>>>查看客户样本对应的类别个数：')\n",
    "r1 = pd.Series(kmodel.labels_).value_counts()\n",
    "print(r1)\n",
    "\n",
    " # 查看聚类中心值\n",
    "print('\\n>>>查看客户样本类别的聚类标准中心值：')\n",
    "r2 = pd.DataFrame(kmodel.cluster_centers_)\n",
    "print(r2)\n",
    "\n",
    "data_cluster = pd.concat([r1,r2],axis = 1) # 按行链接\n",
    "# 重新命名全新的数据集列名称\n",
    "data_cluster.columns = ['聚类个数','ZL','ZR','ZF','ZM','ZC']\n",
    "# 测试\n",
    "print('\\n>>>Kmeans聚类统计分析表1：')\n",
    "print(data_cluster)\n",
    "\n",
    "# 存入文件\n",
    "csvFile = os.getcwd() + os.sep + 'out' + os.sep + 'KMeans_clusters.csv'\n",
    "data_cluster.to_csv(csvFile,encoding='utf_8_sig', index = False)\n",
    "print('\\n 数据文件存入成功')"
   ]
  },
  {
   "cell_type": "markdown",
   "id": "dbfdbdcc",
   "metadata": {},
   "source": [
    "**无标签转换data转换成有标签的data**"
   ]
  },
  {
   "cell_type": "code",
   "execution_count": 21,
   "id": "7e909789",
   "metadata": {},
   "outputs": [
    {
     "name": "stdout",
     "output_type": "stream",
     "text": [
      "\n",
      ">>>KMeans客户分类明细统计表2：\n",
      "             ZL        ZR         ZF         ZM        ZC  客户类别\n",
      "0      1.445661 -0.944948  14.034016  26.761154  1.295540     4\n",
      "1      1.304140 -0.911894   9.073213  13.126864  2.868176     4\n",
      "2      1.339521 -0.889859   8.718869  12.653481  2.880950     4\n",
      "3      0.667296 -0.416098   0.781585  12.540622  1.994714     4\n",
      "4      0.384254 -0.922912   9.923636  13.898736  1.344335     4\n",
      "...         ...       ...        ...        ...       ...   ...\n",
      "62039  2.082505 -0.460169  -0.706656  -0.805297 -0.065898     2\n",
      "62040  0.561156 -0.283886  -0.706656  -0.805297 -0.282309     2\n",
      "62041 -0.146449 -0.735611  -0.706656  -0.772332 -2.689885     0\n",
      "62042 -1.207856  1.605649  -0.706656  -0.779837 -2.554628     3\n",
      "62043 -0.464871  0.603039  -0.706656  -0.786677 -2.392319     0\n",
      "\n",
      "[62044 rows x 6 columns]\n",
      "\n",
      " 数据文件存入成功\n"
     ]
    }
   ],
   "source": [
    "# 将原来无标签的数据转换成有标签的数据，拼接\n",
    "data_details = pd.concat([data, pd.Series(kmodel.labels_,index = data.index)], axis = 1)\n",
    "# 重新命名全新的数据集列名称\n",
    "data_details.columns = ['ZL','ZR','ZF','ZM','ZC','客户类别']\n",
    "# 测试\n",
    "print('\\n>>>KMeans客户分类明细统计表2：')\n",
    "print(data_details)\n",
    "\n",
    "\n",
    "#存入文件\n",
    "csvFile = os.getcwd() + os.sep + 'out' + os.sep + 'KMeans_clusters_details_data.csv'\n",
    "data_details.to_csv(csvFile,encoding='utf_8_sig', index = False)\n",
    "print('\\n 数据文件存入成功')"
   ]
  }
 ],
 "metadata": {
  "kernelspec": {
   "display_name": "Python 3 (ipykernel)",
   "language": "python",
   "name": "python3"
  },
  "language_info": {
   "codemirror_mode": {
    "name": "ipython",
    "version": 3
   },
   "file_extension": ".py",
   "mimetype": "text/x-python",
   "name": "python",
   "nbconvert_exporter": "python",
   "pygments_lexer": "ipython3",
   "version": "3.10.9"
  }
 },
 "nbformat": 4,
 "nbformat_minor": 5
}
