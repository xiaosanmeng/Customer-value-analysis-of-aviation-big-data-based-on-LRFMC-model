{
 "cells": [
  {
   "cell_type": "markdown",
   "id": "ab3b5306",
   "metadata": {},
   "source": [
    "数据标准化：采用的方法是：z-score标准化\n",
    "\n",
    "为了后边更好的聚类"
   ]
  },
  {
   "cell_type": "markdown",
   "id": "b266e4d6",
   "metadata": {},
   "source": [
    "导入文件"
   ]
  },
  {
   "cell_type": "code",
   "execution_count": 23,
   "id": "3be5fbf3",
   "metadata": {},
   "outputs": [
    {
     "name": "stdout",
     "output_type": "stream",
     "text": [
      "    L         R    F       M         C\n",
      "0  90  0.033333  210  580717  0.961639\n",
      "1  86  0.233333  140  293678  1.252314\n",
      "2  87  0.366667  135  283712  1.254676\n",
      "3  68  3.233333   23  281336  1.090870\n",
      "4  60  0.166667  152  309928  0.970658\n"
     ]
    }
   ],
   "source": [
    "import pandas as pd\n",
    "import os\n",
    "csvFile='./out'+os.sep+'data_reduction.csv'\n",
    "data = pd.read_csv(csvFile,encoding='utf-8')\n",
    "# 测试 输出数据的基本信息\n",
    "print(data.head())"
   ]
  },
  {
   "cell_type": "markdown",
   "id": "23cea0db",
   "metadata": {},
   "source": [
    "进行核心操作"
   ]
  },
  {
   "cell_type": "code",
   "execution_count": 24,
   "id": "f6fa5145",
   "metadata": {},
   "outputs": [
    {
     "name": "stdout",
     "output_type": "stream",
     "text": [
      "         ZL        ZR         ZF         ZM        ZC\n",
      "0  1.445661 -0.944948  14.034016  26.761154  1.295540\n",
      "1  1.304140 -0.911894   9.073213  13.126864  2.868176\n",
      "2  1.339521 -0.889859   8.718869  12.653481  2.880950\n",
      "3  0.667296 -0.416098   0.781585  12.540622  1.994714\n",
      "4  0.384254 -0.922912   9.923636  13.898736  1.344335\n"
     ]
    }
   ],
   "source": [
    "# axis 表示按列(0)或者按行(1)进行计算\n",
    "data = (data - data.mean(axis=0)) / data.std(axis=0)\n",
    "# 采用列表推导式，进行统一推导\n",
    "data.columns = ['Z' + i for i in data.columns]\n",
    "print(data.head())"
   ]
  },
  {
   "cell_type": "markdown",
   "id": "ac203d74",
   "metadata": {},
   "source": [
    "存入文件"
   ]
  },
  {
   "cell_type": "code",
   "execution_count": 25,
   "id": "0e20f496",
   "metadata": {},
   "outputs": [
    {
     "name": "stdout",
     "output_type": "stream",
     "text": [
      "\n",
      " 数据文件存入成功\n"
     ]
    }
   ],
   "source": [
    "csvFile = os.getcwd() + os.sep + 'out' + os.sep + 'data_zscore.csv'\n",
    "data.to_csv(csvFile,encoding='utf_8_sig', index = False)\n",
    "print('\\n 数据文件存入成功')"
   ]
  }
 ],
 "metadata": {
  "kernelspec": {
   "display_name": "Python 3 (ipykernel)",
   "language": "python",
   "name": "python3"
  },
  "language_info": {
   "codemirror_mode": {
    "name": "ipython",
    "version": 3
   },
   "file_extension": ".py",
   "mimetype": "text/x-python",
   "name": "python",
   "nbconvert_exporter": "python",
   "pygments_lexer": "ipython3",
   "version": "3.10.9"
  }
 },
 "nbformat": 4,
 "nbformat_minor": 5
}
